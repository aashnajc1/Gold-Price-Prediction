{
 "cells": [
  {
   "cell_type": "code",
   "execution_count": 1,
   "id": "d82b796f",
   "metadata": {},
   "outputs": [],
   "source": [
    "import numpy as np\n",
    "import pandas as pd\n",
    "import matplotlib.pyplot as plt\n",
    "import seaborn as sns\n",
    "from sklearn.model_selection import train_test_split\n",
    "from sklearn.ensemble import RandomForestRegressor\n",
    "from sklearn import metrics "
   ]
  },
  {
   "cell_type": "code",
   "execution_count": 2,
   "id": "06e6c978",
   "metadata": {},
   "outputs": [],
   "source": [
    "gold_data = pd.read_csv('gld_price_data.csv')"
   ]
  },
  {
   "cell_type": "code",
   "execution_count": 3,
   "id": "3150d1da",
   "metadata": {},
   "outputs": [
    {
     "data": {
      "text/html": [
       "<div>\n",
       "<style scoped>\n",
       "    .dataframe tbody tr th:only-of-type {\n",
       "        vertical-align: middle;\n",
       "    }\n",
       "\n",
       "    .dataframe tbody tr th {\n",
       "        vertical-align: top;\n",
       "    }\n",
       "\n",
       "    .dataframe thead th {\n",
       "        text-align: right;\n",
       "    }\n",
       "</style>\n",
       "<table border=\"1\" class=\"dataframe\">\n",
       "  <thead>\n",
       "    <tr style=\"text-align: right;\">\n",
       "      <th></th>\n",
       "      <th>Date</th>\n",
       "      <th>SPX</th>\n",
       "      <th>GLD</th>\n",
       "      <th>USO</th>\n",
       "      <th>SLV</th>\n",
       "      <th>EUR/USD</th>\n",
       "    </tr>\n",
       "  </thead>\n",
       "  <tbody>\n",
       "    <tr>\n",
       "      <th>0</th>\n",
       "      <td>1/2/2008</td>\n",
       "      <td>1447.160034</td>\n",
       "      <td>84.860001</td>\n",
       "      <td>78.470001</td>\n",
       "      <td>15.1800</td>\n",
       "      <td>1.471692</td>\n",
       "    </tr>\n",
       "    <tr>\n",
       "      <th>1</th>\n",
       "      <td>1/3/2008</td>\n",
       "      <td>1447.160034</td>\n",
       "      <td>85.570000</td>\n",
       "      <td>78.370003</td>\n",
       "      <td>15.2850</td>\n",
       "      <td>1.474491</td>\n",
       "    </tr>\n",
       "    <tr>\n",
       "      <th>2</th>\n",
       "      <td>1/4/2008</td>\n",
       "      <td>1411.630005</td>\n",
       "      <td>85.129997</td>\n",
       "      <td>77.309998</td>\n",
       "      <td>15.1670</td>\n",
       "      <td>1.475492</td>\n",
       "    </tr>\n",
       "    <tr>\n",
       "      <th>3</th>\n",
       "      <td>1/7/2008</td>\n",
       "      <td>1416.180054</td>\n",
       "      <td>84.769997</td>\n",
       "      <td>75.500000</td>\n",
       "      <td>15.0530</td>\n",
       "      <td>1.468299</td>\n",
       "    </tr>\n",
       "    <tr>\n",
       "      <th>4</th>\n",
       "      <td>1/8/2008</td>\n",
       "      <td>1390.189941</td>\n",
       "      <td>86.779999</td>\n",
       "      <td>76.059998</td>\n",
       "      <td>15.5900</td>\n",
       "      <td>1.557099</td>\n",
       "    </tr>\n",
       "    <tr>\n",
       "      <th>...</th>\n",
       "      <td>...</td>\n",
       "      <td>...</td>\n",
       "      <td>...</td>\n",
       "      <td>...</td>\n",
       "      <td>...</td>\n",
       "      <td>...</td>\n",
       "    </tr>\n",
       "    <tr>\n",
       "      <th>2285</th>\n",
       "      <td>5/8/2018</td>\n",
       "      <td>2671.919922</td>\n",
       "      <td>124.589996</td>\n",
       "      <td>14.060000</td>\n",
       "      <td>15.5100</td>\n",
       "      <td>1.186789</td>\n",
       "    </tr>\n",
       "    <tr>\n",
       "      <th>2286</th>\n",
       "      <td>5/9/2018</td>\n",
       "      <td>2697.790039</td>\n",
       "      <td>124.330002</td>\n",
       "      <td>14.370000</td>\n",
       "      <td>15.5300</td>\n",
       "      <td>1.184722</td>\n",
       "    </tr>\n",
       "    <tr>\n",
       "      <th>2287</th>\n",
       "      <td>5/10/2018</td>\n",
       "      <td>2723.070068</td>\n",
       "      <td>125.180000</td>\n",
       "      <td>14.410000</td>\n",
       "      <td>15.7400</td>\n",
       "      <td>1.191753</td>\n",
       "    </tr>\n",
       "    <tr>\n",
       "      <th>2288</th>\n",
       "      <td>5/14/2018</td>\n",
       "      <td>2730.129883</td>\n",
       "      <td>124.489998</td>\n",
       "      <td>14.380000</td>\n",
       "      <td>15.5600</td>\n",
       "      <td>1.193118</td>\n",
       "    </tr>\n",
       "    <tr>\n",
       "      <th>2289</th>\n",
       "      <td>5/16/2018</td>\n",
       "      <td>2725.780029</td>\n",
       "      <td>122.543800</td>\n",
       "      <td>14.405800</td>\n",
       "      <td>15.4542</td>\n",
       "      <td>1.182033</td>\n",
       "    </tr>\n",
       "  </tbody>\n",
       "</table>\n",
       "<p>2290 rows × 6 columns</p>\n",
       "</div>"
      ],
      "text/plain": [
       "           Date          SPX         GLD        USO      SLV   EUR/USD\n",
       "0      1/2/2008  1447.160034   84.860001  78.470001  15.1800  1.471692\n",
       "1      1/3/2008  1447.160034   85.570000  78.370003  15.2850  1.474491\n",
       "2      1/4/2008  1411.630005   85.129997  77.309998  15.1670  1.475492\n",
       "3      1/7/2008  1416.180054   84.769997  75.500000  15.0530  1.468299\n",
       "4      1/8/2008  1390.189941   86.779999  76.059998  15.5900  1.557099\n",
       "...         ...          ...         ...        ...      ...       ...\n",
       "2285   5/8/2018  2671.919922  124.589996  14.060000  15.5100  1.186789\n",
       "2286   5/9/2018  2697.790039  124.330002  14.370000  15.5300  1.184722\n",
       "2287  5/10/2018  2723.070068  125.180000  14.410000  15.7400  1.191753\n",
       "2288  5/14/2018  2730.129883  124.489998  14.380000  15.5600  1.193118\n",
       "2289  5/16/2018  2725.780029  122.543800  14.405800  15.4542  1.182033\n",
       "\n",
       "[2290 rows x 6 columns]"
      ]
     },
     "execution_count": 3,
     "metadata": {},
     "output_type": "execute_result"
    }
   ],
   "source": [
    "gold_data"
   ]
  },
  {
   "cell_type": "code",
   "execution_count": 4,
   "id": "6dc08a2f",
   "metadata": {},
   "outputs": [
    {
     "data": {
      "text/plain": [
       "(2290, 6)"
      ]
     },
     "execution_count": 4,
     "metadata": {},
     "output_type": "execute_result"
    }
   ],
   "source": [
    "gold_data.shape"
   ]
  },
  {
   "cell_type": "code",
   "execution_count": 6,
   "id": "4c9c256a",
   "metadata": {},
   "outputs": [
    {
     "name": "stdout",
     "output_type": "stream",
     "text": [
      "<class 'pandas.core.frame.DataFrame'>\n",
      "RangeIndex: 2290 entries, 0 to 2289\n",
      "Data columns (total 6 columns):\n",
      " #   Column   Non-Null Count  Dtype  \n",
      "---  ------   --------------  -----  \n",
      " 0   Date     2290 non-null   object \n",
      " 1   SPX      2290 non-null   float64\n",
      " 2   GLD      2290 non-null   float64\n",
      " 3   USO      2290 non-null   float64\n",
      " 4   SLV      2290 non-null   float64\n",
      " 5   EUR/USD  2290 non-null   float64\n",
      "dtypes: float64(5), object(1)\n",
      "memory usage: 107.5+ KB\n"
     ]
    }
   ],
   "source": [
    "gold_data.info()"
   ]
  },
  {
   "cell_type": "code",
   "execution_count": 7,
   "id": "33c27497",
   "metadata": {},
   "outputs": [
    {
     "data": {
      "text/plain": [
       "Date       0\n",
       "SPX        0\n",
       "GLD        0\n",
       "USO        0\n",
       "SLV        0\n",
       "EUR/USD    0\n",
       "dtype: int64"
      ]
     },
     "execution_count": 7,
     "metadata": {},
     "output_type": "execute_result"
    }
   ],
   "source": [
    "gold_data.isnull().sum()"
   ]
  },
  {
   "cell_type": "code",
   "execution_count": 8,
   "id": "361802e8",
   "metadata": {},
   "outputs": [
    {
     "data": {
      "text/html": [
       "<div>\n",
       "<style scoped>\n",
       "    .dataframe tbody tr th:only-of-type {\n",
       "        vertical-align: middle;\n",
       "    }\n",
       "\n",
       "    .dataframe tbody tr th {\n",
       "        vertical-align: top;\n",
       "    }\n",
       "\n",
       "    .dataframe thead th {\n",
       "        text-align: right;\n",
       "    }\n",
       "</style>\n",
       "<table border=\"1\" class=\"dataframe\">\n",
       "  <thead>\n",
       "    <tr style=\"text-align: right;\">\n",
       "      <th></th>\n",
       "      <th>SPX</th>\n",
       "      <th>GLD</th>\n",
       "      <th>USO</th>\n",
       "      <th>SLV</th>\n",
       "      <th>EUR/USD</th>\n",
       "    </tr>\n",
       "  </thead>\n",
       "  <tbody>\n",
       "    <tr>\n",
       "      <th>count</th>\n",
       "      <td>2290.000000</td>\n",
       "      <td>2290.000000</td>\n",
       "      <td>2290.000000</td>\n",
       "      <td>2290.000000</td>\n",
       "      <td>2290.000000</td>\n",
       "    </tr>\n",
       "    <tr>\n",
       "      <th>mean</th>\n",
       "      <td>1654.315776</td>\n",
       "      <td>122.732875</td>\n",
       "      <td>31.842221</td>\n",
       "      <td>20.084997</td>\n",
       "      <td>1.283653</td>\n",
       "    </tr>\n",
       "    <tr>\n",
       "      <th>std</th>\n",
       "      <td>519.111540</td>\n",
       "      <td>23.283346</td>\n",
       "      <td>19.523517</td>\n",
       "      <td>7.092566</td>\n",
       "      <td>0.131547</td>\n",
       "    </tr>\n",
       "    <tr>\n",
       "      <th>min</th>\n",
       "      <td>676.530029</td>\n",
       "      <td>70.000000</td>\n",
       "      <td>7.960000</td>\n",
       "      <td>8.850000</td>\n",
       "      <td>1.039047</td>\n",
       "    </tr>\n",
       "    <tr>\n",
       "      <th>25%</th>\n",
       "      <td>1239.874969</td>\n",
       "      <td>109.725000</td>\n",
       "      <td>14.380000</td>\n",
       "      <td>15.570000</td>\n",
       "      <td>1.171313</td>\n",
       "    </tr>\n",
       "    <tr>\n",
       "      <th>50%</th>\n",
       "      <td>1551.434998</td>\n",
       "      <td>120.580002</td>\n",
       "      <td>33.869999</td>\n",
       "      <td>17.268500</td>\n",
       "      <td>1.303297</td>\n",
       "    </tr>\n",
       "    <tr>\n",
       "      <th>75%</th>\n",
       "      <td>2073.010070</td>\n",
       "      <td>132.840004</td>\n",
       "      <td>37.827501</td>\n",
       "      <td>22.882500</td>\n",
       "      <td>1.369971</td>\n",
       "    </tr>\n",
       "    <tr>\n",
       "      <th>max</th>\n",
       "      <td>2872.870117</td>\n",
       "      <td>184.589996</td>\n",
       "      <td>117.480003</td>\n",
       "      <td>47.259998</td>\n",
       "      <td>1.598798</td>\n",
       "    </tr>\n",
       "  </tbody>\n",
       "</table>\n",
       "</div>"
      ],
      "text/plain": [
       "               SPX          GLD          USO          SLV      EUR/USD\n",
       "count  2290.000000  2290.000000  2290.000000  2290.000000  2290.000000\n",
       "mean   1654.315776   122.732875    31.842221    20.084997     1.283653\n",
       "std     519.111540    23.283346    19.523517     7.092566     0.131547\n",
       "min     676.530029    70.000000     7.960000     8.850000     1.039047\n",
       "25%    1239.874969   109.725000    14.380000    15.570000     1.171313\n",
       "50%    1551.434998   120.580002    33.869999    17.268500     1.303297\n",
       "75%    2073.010070   132.840004    37.827501    22.882500     1.369971\n",
       "max    2872.870117   184.589996   117.480003    47.259998     1.598798"
      ]
     },
     "execution_count": 8,
     "metadata": {},
     "output_type": "execute_result"
    }
   ],
   "source": [
    "gold_data.describe()"
   ]
  },
  {
   "cell_type": "code",
   "execution_count": 10,
   "id": "efd5a408",
   "metadata": {},
   "outputs": [
    {
     "name": "stdout",
     "output_type": "stream",
     "text": [
      "              SPX       GLD       USO       SLV   EUR/USD\n",
      "SPX      1.000000  0.049345 -0.591573 -0.274055 -0.672017\n",
      "GLD      0.049345  1.000000 -0.186360  0.866632 -0.024375\n",
      "USO     -0.591573 -0.186360  1.000000  0.167547  0.829317\n",
      "SLV     -0.274055  0.866632  0.167547  1.000000  0.321631\n",
      "EUR/USD -0.672017 -0.024375  0.829317  0.321631  1.000000\n"
     ]
    }
   ],
   "source": [
    "correlation = gold_data.corr()\n",
    "print(correlation)"
   ]
  },
  {
   "cell_type": "code",
   "execution_count": 16,
   "id": "c3874480",
   "metadata": {},
   "outputs": [
    {
     "data": {
      "text/plain": [
       "<AxesSubplot:>"
      ]
     },
     "execution_count": 16,
     "metadata": {},
     "output_type": "execute_result"
    },
    {
     "data": {
      "image/png": "[encoded data removed]",
      "text/plain": [
       "<Figure size 576x576 with 2 Axes>"
      ]
     },
     "metadata": {
      "needs_background": "light"
     },
     "output_type": "display_data"
    }
   ],
   "source": [
    "plt.figure(figsize = (8,8))\n",
    "sns.heatmap(correlation,cbar = True, square = True, fmt = '.1f', annot = True, annot_kws = {'size':8}, cmap = 'Blues')"
   ]
  },
  {
   "cell_type": "code",
   "execution_count": 17,
   "id": "429916fc",
   "metadata": {},
   "outputs": [
    {
     "name": "stdout",
     "output_type": "stream",
     "text": [
      "SPX        0.049345\n",
      "GLD        1.000000\n",
      "USO       -0.186360\n",
      "SLV        0.866632\n",
      "EUR/USD   -0.024375\n",
      "Name: GLD, dtype: float64\n"
     ]
    }
   ],
   "source": [
    "#correlation values of GLD\n",
    "print(correlation['GLD'])"
   ]
  },
  {
   "cell_type": "code",
   "execution_count": 18,
   "id": "4b127046",
   "metadata": {},
   "outputs": [
    {
     "name": "stderr",
     "output_type": "stream",
     "text": [
      "C:\\Users\\yaybl\\anaconda3\\lib\\site-packages\\seaborn\\distributions.py:2619: FutureWarning: `distplot` is a deprecated function and will be removed in a future version. Please adapt your code to use either `displot` (a figure-level function with similar flexibility) or `histplot` (an axes-level function for histograms).\n",
      "  warnings.warn(msg, FutureWarning)\n"
     ]
    },
    {
     "data": {
      "text/plain": [
       "<AxesSubplot:xlabel='GLD', ylabel='Density'>"
      ]
     },
     "execution_count": 18,
     "metadata": {},
     "output_type": "execute_result"
    },
    {
     "data": {
      "image/png": "[encoded data removed]",
      "text/plain": [
       "<Figure size 432x288 with 1 Axes>"
      ]
     },
     "metadata": {
      "needs_background": "light"
     },
     "output_type": "display_data"
    }
   ],
   "source": [
    "#distribution of the GLD price\n",
    "sns.distplot(gold_data['GLD'],color = 'Red')"
   ]
  },
  {
   "cell_type": "code",
   "execution_count": 19,
   "id": "6ba709bf",
   "metadata": {},
   "outputs": [],
   "source": [
    "X = gold_data.drop(['Date','GLD'],axis = 1)"
   ]
  },
  {
   "cell_type": "code",
   "execution_count": 20,
   "id": "1a7852b6",
   "metadata": {},
   "outputs": [],
   "source": [
    "Y = gold_data['GLD']"
   ]
  },
  {
   "cell_type": "code",
   "execution_count": 22,
   "id": "aaa95ebb",
   "metadata": {},
   "outputs": [],
   "source": [
    "X_train, X_test, Y_train, Y_test = train_test_split(X,Y, test_size = 0.2, random_state = 7)"
   ]
  },
  {
   "cell_type": "code",
   "execution_count": 23,
   "id": "303978fc",
   "metadata": {},
   "outputs": [],
   "source": [
    "random_reg = RandomForestRegressor(n_estimators = 100)"
   ]
  },
  {
   "cell_type": "code",
   "execution_count": 24,
   "id": "ad94148e",
   "metadata": {},
   "outputs": [
    {
     "data": {
      "text/plain": [
       "RandomForestRegressor()"
      ]
     },
     "execution_count": 24,
     "metadata": {},
     "output_type": "execute_result"
    }
   ],
   "source": [
    "random_reg.fit(X_train,Y_train)"
   ]
  },
  {
   "cell_type": "code",
   "execution_count": 25,
   "id": "d4967500",
   "metadata": {},
   "outputs": [],
   "source": [
    "test_data_prediction = random_reg.predict(X_test)"
   ]
  },
  {
   "cell_type": "code",
   "execution_count": 26,
   "id": "fb762990",
   "metadata": {},
   "outputs": [
    {
     "data": {
      "text/plain": [
       "array([106.68080051, 104.29819913, 145.25380191, 117.47610032,\n",
       "       154.97840094, 127.15660151, 147.19030401, 147.62730039,\n",
       "       121.68749958, 121.58589897, 119.01510124, 132.74110042,\n",
       "        85.68320008,  92.47090121, 119.6684009 , 161.54839892,\n",
       "       117.95169997, 115.97690058, 125.32659915, 106.79480047,\n",
       "       161.08100075, 122.79650022, 161.85499817, 122.97739939,\n",
       "       120.13859987, 169.66229745, 139.2960027 , 120.56440057,\n",
       "        92.9706002 , 121.45800057,  94.04940118, 160.25149802,\n",
       "       113.95940096, 150.99030131,  95.20019912, 156.33079837,\n",
       "       117.98659851, 104.79200097, 121.08519965, 142.81019816,\n",
       "       159.3407021 ,  80.11050127, 114.9059994 , 102.10889892,\n",
       "        90.94219948, 177.53440201, 125.52870066,  89.57290161,\n",
       "       108.2799989 , 128.87190206, 127.44380134, 128.9716012 ,\n",
       "        89.48550049, 120.22900015, 140.5232013 , 152.90049975,\n",
       "       123.1742009 , 127.47410103, 125.87280015,  96.64369898,\n",
       "       119.51930002, 125.01020006, 124.79979899, 108.53280026,\n",
       "       121.24010118,  78.86139988, 119.6233005 , 124.57519952,\n",
       "       134.38799671, 119.0038    , 129.19410028,  84.54849999,\n",
       "       135.51429787, 114.5801992 , 167.5598992 , 114.9332003 ,\n",
       "        89.40779962,  88.072001  , 137.65289733, 121.32780099,\n",
       "       114.80690028, 109.57519987, 141.15349792, 110.80510004,\n",
       "       107.12249877, 125.99080121, 156.03049934,  91.83590068,\n",
       "       120.3109997 ,  88.0957996 , 161.13929704, 128.55720167,\n",
       "       117.58680044, 108.09330049, 125.97269963, 102.78889923,\n",
       "       161.96300108, 126.0319004 , 126.91080095,  87.66479857,\n",
       "       107.29289884, 119.6382995 , 114.22630091, 136.76970025,\n",
       "        94.53980067, 119.68150105,  88.31299989,  80.77019986,\n",
       "        82.10169971, 128.21540106,  87.8567992 , 116.3198989 ,\n",
       "       116.97910062, 116.98550183, 113.66939979, 126.2784018 ,\n",
       "       116.95099876, 166.45930292, 118.12809882,  91.81169971,\n",
       "       134.40219684, 124.35129987, 114.64759947, 157.64420058,\n",
       "       108.62099828, 123.66089866, 173.9710978 , 121.06570024,\n",
       "       121.34419919, 108.38359952, 117.44410091, 114.59630049,\n",
       "       104.01630006,  89.01769903, 108.97120066, 135.67749842,\n",
       "       119.71770027, 117.03879931, 119.49969906,  96.06399887,\n",
       "       117.54989944, 105.42780035, 127.46299954, 135.93950107,\n",
       "       119.65450013, 135.8264995 , 144.92030195, 129.12729816,\n",
       "       109.10279847, 127.07780075, 111.3931005 , 114.32409932,\n",
       "        82.23379835, 165.55220206, 138.56100017, 105.85039917,\n",
       "       121.58510019, 156.335999  , 125.79910023, 167.96859555,\n",
       "       119.46040114, 112.86719949, 126.80219788, 117.38079907,\n",
       "       119.00499867, 109.50180027, 120.70629978, 122.53159939,\n",
       "       143.53850019, 110.60889981, 114.95680051, 125.82499999,\n",
       "       127.41739746, 117.1162021 , 108.81440103,  89.92319945,\n",
       "       108.35779892,  84.50139892, 102.11020045, 115.18070001,\n",
       "       114.010301  , 132.95000024, 151.70120218, 127.71230202,\n",
       "       165.96720181, 138.66219909, 108.22749939, 102.70809996,\n",
       "        92.88160021, 145.23279894, 153.05940348, 146.12710057,\n",
       "       167.1912988 , 111.80840039, 164.99150252, 120.07279853,\n",
       "       125.19200039,  93.5709992 ,  72.47460177, 160.87989795,\n",
       "       119.73029984, 148.13029909, 109.60490052, 121.25709959,\n",
       "       107.38379885, 175.59339859, 117.64789881,  86.90759927,\n",
       "       116.15940152, 119.62180085, 161.1011022 , 160.4929986 ,\n",
       "        92.8337987 , 127.74939904, 164.56380181, 119.49010041,\n",
       "        93.82460143, 153.64559948, 105.33839977, 121.36107601,\n",
       "       150.23939841, 151.67020177, 135.40699929, 162.61240005,\n",
       "       135.95250111, 153.88969928,  76.06620017, 146.52639853,\n",
       "        97.69879814, 115.8366984 ,  85.87280005, 163.40550069,\n",
       "        87.29479838, 124.64089955, 133.93190129, 103.40549848,\n",
       "       112.9828014 , 176.83620061, 125.46860152, 168.14020036,\n",
       "       171.71840325, 116.95930092, 157.82909942, 104.27539934,\n",
       "       116.48620101,  90.04370104, 126.44880047, 109.21819905,\n",
       "       127.58429979, 141.00300232, 125.79390051, 132.86190205,\n",
       "       167.8297987 , 121.60969989, 130.53720227, 117.71030065,\n",
       "        89.58980124, 118.79620115,  89.645899  , 142.21230197,\n",
       "       105.27700019, 154.61230193, 108.7076983 ,  73.47380064,\n",
       "       121.14319987, 152.86580094, 112.51600157, 123.61270023,\n",
       "       114.26859981, 106.5369984 , 120.92950048, 129.50720164,\n",
       "       115.9174003 , 117.25110012, 113.33010044, 170.54710057,\n",
       "       117.48990066, 120.94880044, 118.88369878, 132.16620236,\n",
       "       127.28079799,  91.50799992, 122.58849884,  76.55690014,\n",
       "       161.14150407, 120.49699893, 132.2522027 , 105.96579971,\n",
       "       154.26479925, 129.35460221, 118.84990093, 161.45089868,\n",
       "       121.74519912, 106.30639952,  83.83259898, 145.76719847,\n",
       "       120.0117999 , 120.96979864, 131.74080288, 122.88359964,\n",
       "        93.9310985 , 124.01599964, 152.01869979, 166.92599851,\n",
       "       138.51589911, 121.55590229, 119.93510146, 127.79010047,\n",
       "       147.49430111, 126.28780191, 110.02539991, 122.60539898,\n",
       "       122.24919973, 108.6988979 , 124.82579963, 160.83290209,\n",
       "       166.64649952, 120.34810049,  74.68740104,  90.0466991 ,\n",
       "       126.74520099, 114.88479965, 106.74890055,  98.98600055,\n",
       "       112.15759925, 125.7909988 , 107.65029863, 112.33280081,\n",
       "       123.68950106, 122.5488995 , 152.04000106, 179.2556985 ,\n",
       "       119.03700059, 161.46190098, 134.52189669,  88.1378991 ,\n",
       "       117.94940001, 158.51009797, 171.60190299, 127.37570016,\n",
       "       107.20899937, 108.77449872, 134.08059878, 104.82280155,\n",
       "       125.88159852, 158.45729646, 114.70670023, 121.10530032,\n",
       "       117.77120083, 125.26020029,  93.0272006 , 120.98520021,\n",
       "       128.54419928, 128.49609988, 116.44850065, 120.14820084,\n",
       "        92.02029987, 105.03949924, 125.12419875, 123.58399997,\n",
       "        87.91849894, 148.09620096, 109.09139892, 112.75630031,\n",
       "       124.25700011,  84.09830013, 120.02179992,  88.60160023,\n",
       "       159.04400064, 127.51949853, 165.25280209, 152.37650096,\n",
       "       127.89909937, 127.82359991,  90.2110002 ,  93.57619833,\n",
       "       152.38890043, 162.13689774, 166.28520197, 139.11389946,\n",
       "       120.60960079, 117.82390016, 153.1012009 ,  94.43780057,\n",
       "       118.43100073,  93.92099909, 146.63269839, 101.85279853,\n",
       "       132.47300038, 123.14399786, 118.83880103,  88.77629921,\n",
       "       134.28249701, 119.26570043, 105.31610108, 146.07120124,\n",
       "       155.14650035, 125.53070103, 116.85479983, 102.80079924,\n",
       "       108.84299969, 141.44939876,  93.87749844,  76.26309986,\n",
       "       163.78929998, 152.79900293, 108.38979973,  90.05629944,\n",
       "       117.25479863, 110.39379949, 148.15310012, 109.59639983,\n",
       "       112.96670049, 114.12330019, 118.19540081, 119.59739984,\n",
       "       152.91890206,  92.47209879, 130.04320116, 112.62580084,\n",
       "       126.26259851, 123.0468996 , 151.77570113, 127.63670091,\n",
       "       115.22910019, 125.7412996 , 124.1543995 ,  93.00780087,\n",
       "       139.64280056,  99.37489988, 120.31160045, 110.73309782,\n",
       "        75.47209897, 124.68209936, 128.02560129, 117.47740042,\n",
       "       118.619301  , 125.13459855, 109.20480115, 117.33170115,\n",
       "        83.63639969, 123.27379952,  99.0730998 , 111.55220026,\n",
       "       167.02779751, 118.0287005 , 123.384399  , 140.98259945,\n",
       "       127.36559984, 109.25019942,  77.52270125, 145.55519977,\n",
       "       105.67290073,  74.11390041, 113.44270094, 171.46280248,\n",
       "       171.87600128, 131.16590386])"
      ]
     },
     "execution_count": 26,
     "metadata": {},
     "output_type": "execute_result"
    }
   ],
   "source": [
    "test_data_prediction"
   ]
  },
  {
   "cell_type": "code",
   "execution_count": 27,
   "id": "fb48915b",
   "metadata": {},
   "outputs": [],
   "source": [
    "error_score = metrics.r2_score(Y_test, test_data_prediction)"
   ]
  },
  {
   "cell_type": "code",
   "execution_count": 28,
   "id": "fc1c7087",
   "metadata": {},
   "outputs": [
    {
     "data": {
      "text/plain": [
       "0.9883341580733614"
      ]
     },
     "execution_count": 28,
     "metadata": {},
     "output_type": "execute_result"
    }
   ],
   "source": [
    "error_score"
   ]
  },
  {
   "cell_type": "code",
   "execution_count": 29,
   "id": "29f920d4",
   "metadata": {},
   "outputs": [],
   "source": [
    "Y_test = list(Y_test)"
   ]
  },
  {
   "cell_type": "code",
   "execution_count": 30,
   "id": "12077676",
   "metadata": {},
   "outputs": [
    {
     "data": {
      "image/png": "[encoded data removed]",
      "text/plain": [
       "<Figure size 432x288 with 1 Axes>"
      ]
     },
     "metadata": {
      "needs_background": "light"
     },
     "output_type": "display_data"
    }
   ],
   "source": [
    "plt.plot(Y_test, color = 'blue', label = 'Actual values')\n",
    "plt.plot(test_data_prediction, color = 'green', label = 'Predicted values')\n",
    "plt.title('Actual price vs Predicted price')\n",
    "plt.xlabel('Number of values')\n",
    "plt.ylabel('GLD price')\n",
    "plt.legend()\n",
    "plt.show()"
   ]
  },
  {
   "cell_type": "code",
   "execution_count": 32,
   "id": "b9af8d2c",
   "metadata": {},
   "outputs": [],
   "source": [
    "#building a prediction system\n",
    "input_data = (1447.160034,78.470001,15.1800,1.471692)\n",
    "array = np.asarray(input_data)\n",
    "\n",
    "array_reshape = array.reshape(1,-1) #we want to make the prediction for only one value\n",
    "\n",
    "prediction = random_reg.predict(array_reshape)"
   ]
  },
  {
   "cell_type": "code",
   "execution_count": 33,
   "id": "8c680318",
   "metadata": {},
   "outputs": [
    {
     "data": {
      "text/plain": [
       "array([85.07410076])"
      ]
     },
     "execution_count": 33,
     "metadata": {},
     "output_type": "execute_result"
    }
   ],
   "source": [
    "prediction"
   ]
  },
  {
   "cell_type": "code",
   "execution_count": null,
   "id": "149f5bdc",
   "metadata": {},
   "outputs": [],
   "source": [
    "#actual value is 84.86"
   ]
  }
 ],
 "metadata": {
  "kernelspec": {
   "display_name": "Python 3 (ipykernel)",
   "language": "python",
   "name": "python3"
  },
  "language_info": {
   "codemirror_mode": {
    "name": "ipython",
    "version": 3
   },
   "file_extension": ".py",
   "mimetype": "text/x-python",
   "name": "python",
   "nbconvert_exporter": "python",
   "pygments_lexer": "ipython3",
   "version": "3.9.7"
  }
 },
 "nbformat": 4,
 "nbformat_minor": 5
}
